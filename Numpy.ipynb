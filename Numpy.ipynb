{
  "nbformat": 4,
  "nbformat_minor": 0,
  "metadata": {
    "kernelspec": {
      "display_name": "Python 3",
      "language": "python",
      "name": "python3"
    },
    "language_info": {
      "codemirror_mode": {
        "name": "ipython",
        "version": 3
      },
      "file_extension": ".py",
      "mimetype": "text/x-python",
      "name": "python",
      "nbconvert_exporter": "python",
      "pygments_lexer": "ipython3",
      "version": "3.8.5"
    },
    "colab": {
      "name": "Numpy.ipynb",
      "provenance": [],
      "toc_visible": true
    }
  },
  "cells": [
    {
      "cell_type": "markdown",
      "metadata": {
        "id": "D5Zs9Nj3ZUph"
      },
      "source": [
        "# **Exemplos com lista Numpy**\n"
      ]
    },
    {
      "cell_type": "code",
      "metadata": {
        "id": "edxmj6_JY_ZH"
      },
      "source": [
        "lista = [1,2,3]"
      ],
      "execution_count": null,
      "outputs": []
    },
    {
      "cell_type": "code",
      "metadata": {
        "id": "ifh8qhbOY_ZL",
        "outputId": "2b8f58b9-08d4-47ed-9459-ac5010873327"
      },
      "source": [
        "np.array(lista)"
      ],
      "execution_count": null,
      "outputs": [
        {
          "data": {
            "text/plain": [
              "array([1, 2, 3])"
            ]
          },
          "execution_count": 6,
          "metadata": {},
          "output_type": "execute_result"
        }
      ]
    },
    {
      "cell_type": "code",
      "metadata": {
        "id": "UCxxZSF4Y_ZM",
        "outputId": "9d8d1615-9a8c-42a9-eaf8-2c79e00a8970"
      },
      "source": [
        "np.arange(0,10)"
      ],
      "execution_count": null,
      "outputs": [
        {
          "data": {
            "text/plain": [
              "array([0, 1, 2, 3, 4, 5, 6, 7, 8, 9])"
            ]
          },
          "execution_count": 7,
          "metadata": {},
          "output_type": "execute_result"
        }
      ]
    },
    {
      "cell_type": "code",
      "metadata": {
        "id": "l-T3yjDrY_ZN",
        "outputId": "c10166d0-7c70-4f14-8e5e-c33db5ee8423"
      },
      "source": [
        "np.arange(0, 10, 2)"
      ],
      "execution_count": null,
      "outputs": [
        {
          "data": {
            "text/plain": [
              "array([0, 2, 4, 6, 8])"
            ]
          },
          "execution_count": 8,
          "metadata": {},
          "output_type": "execute_result"
        }
      ]
    },
    {
      "cell_type": "code",
      "metadata": {
        "id": "gB1I5CEdY_ZO",
        "outputId": "58560c24-9f73-4ed3-dd8c-d77f7ded54f6"
      },
      "source": [
        "np.zeros(3)"
      ],
      "execution_count": null,
      "outputs": [
        {
          "data": {
            "text/plain": [
              "array([0., 0., 0.])"
            ]
          },
          "execution_count": 9,
          "metadata": {},
          "output_type": "execute_result"
        }
      ]
    },
    {
      "cell_type": "code",
      "metadata": {
        "id": "vig_KVCaY_ZQ"
      },
      "source": [
        "arr = np.zeros((5,5))"
      ],
      "execution_count": null,
      "outputs": []
    },
    {
      "cell_type": "code",
      "metadata": {
        "id": "gThs984sY_ZR",
        "outputId": "74f5fc90-4149-4f3f-9d1b-96453fbeb4f9"
      },
      "source": [
        "arr"
      ],
      "execution_count": null,
      "outputs": [
        {
          "data": {
            "text/plain": [
              "array([[0., 0., 0., 0., 0.],\n",
              "       [0., 0., 0., 0., 0.],\n",
              "       [0., 0., 0., 0., 0.],\n",
              "       [0., 0., 0., 0., 0.],\n",
              "       [0., 0., 0., 0., 0.]])"
            ]
          },
          "execution_count": 11,
          "metadata": {},
          "output_type": "execute_result"
        }
      ]
    },
    {
      "cell_type": "code",
      "metadata": {
        "id": "o-MzTBIuY_ZS"
      },
      "source": [
        "arr = np.ones((5,5))"
      ],
      "execution_count": null,
      "outputs": []
    },
    {
      "cell_type": "code",
      "metadata": {
        "id": "_8sMkyx2Y_ZT",
        "outputId": "3f14f8f4-648f-4b19-a8df-88c16dcaca14"
      },
      "source": [
        "arr"
      ],
      "execution_count": null,
      "outputs": [
        {
          "data": {
            "text/plain": [
              "array([[1., 1., 1., 1., 1.],\n",
              "       [1., 1., 1., 1., 1.],\n",
              "       [1., 1., 1., 1., 1.],\n",
              "       [1., 1., 1., 1., 1.],\n",
              "       [1., 1., 1., 1., 1.]])"
            ]
          },
          "execution_count": 15,
          "metadata": {},
          "output_type": "execute_result"
        }
      ]
    },
    {
      "cell_type": "code",
      "metadata": {
        "id": "ml70lIFsY_ZT",
        "outputId": "befec1e8-3e27-4654-fefb-06d5b39ec470"
      },
      "source": [
        "np.eye(4)"
      ],
      "execution_count": null,
      "outputs": [
        {
          "data": {
            "text/plain": [
              "array([[1., 0., 0., 0.],\n",
              "       [0., 1., 0., 0.],\n",
              "       [0., 0., 1., 0.],\n",
              "       [0., 0., 0., 1.]])"
            ]
          },
          "execution_count": 16,
          "metadata": {},
          "output_type": "execute_result"
        }
      ]
    },
    {
      "cell_type": "code",
      "metadata": {
        "id": "Z-p0XZ9uY_ZU",
        "outputId": "3dc3ff36-d623-45eb-b72f-fc339f90e276"
      },
      "source": [
        "np.linspace(0, 10, 2)"
      ],
      "execution_count": null,
      "outputs": [
        {
          "data": {
            "text/plain": [
              "array([ 0., 10.])"
            ]
          },
          "execution_count": 17,
          "metadata": {},
          "output_type": "execute_result"
        }
      ]
    },
    {
      "cell_type": "code",
      "metadata": {
        "id": "61Ra0FQXY_ZU",
        "outputId": "03c739bb-8fcb-4fe5-b345-ed1ece510143"
      },
      "source": [
        "np.random.rand(5)"
      ],
      "execution_count": null,
      "outputs": [
        {
          "data": {
            "text/plain": [
              "array([0.85503875, 0.10039671, 0.56981021, 0.80358933, 0.95617632])"
            ]
          },
          "execution_count": 19,
          "metadata": {},
          "output_type": "execute_result"
        }
      ]
    },
    {
      "cell_type": "code",
      "metadata": {
        "id": "KfRyYno1Y_ZV",
        "outputId": "d3d0110c-9bfa-4bee-b4be-8cb727966b05"
      },
      "source": [
        "np.random.rand(5, 3)"
      ],
      "execution_count": null,
      "outputs": [
        {
          "data": {
            "text/plain": [
              "array([[0.03142385, 0.45599234, 0.57517429],\n",
              "       [0.60783661, 0.83078805, 0.56308155],\n",
              "       [0.99929615, 0.76224162, 0.35718252],\n",
              "       [0.5623375 , 0.47064933, 0.79257641],\n",
              "       [0.49516362, 0.51556838, 0.88950437]])"
            ]
          },
          "execution_count": 20,
          "metadata": {},
          "output_type": "execute_result"
        }
      ]
    },
    {
      "cell_type": "code",
      "metadata": {
        "id": "ldgtyB4JY_ZV",
        "outputId": "2e0d2372-827b-4ba3-bb1b-882ee357622e"
      },
      "source": [
        "np.random.randn(4)"
      ],
      "execution_count": null,
      "outputs": [
        {
          "data": {
            "text/plain": [
              "array([-0.41376637,  0.21902785, -1.26499614,  2.70079731])"
            ]
          },
          "execution_count": 21,
          "metadata": {},
          "output_type": "execute_result"
        }
      ]
    },
    {
      "cell_type": "code",
      "metadata": {
        "id": "ZYEVWIOzY_ZW",
        "outputId": "dc002fb2-950c-4e53-e879-10a8daaac430"
      },
      "source": [
        "np.random.randint(0, 50, 2)"
      ],
      "execution_count": null,
      "outputs": [
        {
          "data": {
            "text/plain": [
              "array([31, 24])"
            ]
          },
          "execution_count": 22,
          "metadata": {},
          "output_type": "execute_result"
        }
      ]
    },
    {
      "cell_type": "code",
      "metadata": {
        "id": "2L_YNwwKY_ZW"
      },
      "source": [
        "arr = np.random.rand(25)"
      ],
      "execution_count": null,
      "outputs": []
    },
    {
      "cell_type": "code",
      "metadata": {
        "id": "9eUgWlnwY_ZX",
        "outputId": "94b54f6c-c670-4559-ae49-9f89b0a94ac2"
      },
      "source": [
        "arr"
      ],
      "execution_count": null,
      "outputs": [
        {
          "data": {
            "text/plain": [
              "array([0.60232804, 0.19097111, 0.61160186, 0.33045255, 0.27610434,\n",
              "       0.62637719, 0.51280619, 0.15505511, 0.43555063, 0.15382119,\n",
              "       0.22041939, 0.92260971, 0.36194363, 0.89358631, 0.55619   ,\n",
              "       0.32707515, 0.4252791 , 0.5740884 , 0.85548461, 0.08389984,\n",
              "       0.35097002, 0.26646006, 0.03110901, 0.81047887, 0.6796656 ])"
            ]
          },
          "execution_count": 24,
          "metadata": {},
          "output_type": "execute_result"
        }
      ]
    },
    {
      "cell_type": "code",
      "metadata": {
        "id": "UiGeYQANY_ZX",
        "outputId": "0f758d6c-6f0b-4a33-b08f-2fd2f29ef68b"
      },
      "source": [
        "arr.reshape(5,5)"
      ],
      "execution_count": null,
      "outputs": [
        {
          "data": {
            "text/plain": [
              "array([[0.60232804, 0.19097111, 0.61160186, 0.33045255, 0.27610434],\n",
              "       [0.62637719, 0.51280619, 0.15505511, 0.43555063, 0.15382119],\n",
              "       [0.22041939, 0.92260971, 0.36194363, 0.89358631, 0.55619   ],\n",
              "       [0.32707515, 0.4252791 , 0.5740884 , 0.85548461, 0.08389984],\n",
              "       [0.35097002, 0.26646006, 0.03110901, 0.81047887, 0.6796656 ]])"
            ]
          },
          "execution_count": 25,
          "metadata": {},
          "output_type": "execute_result"
        }
      ]
    },
    {
      "cell_type": "code",
      "metadata": {
        "id": "LLDalTRDY_ZX",
        "outputId": "4296cd0d-ae1f-4855-9401-6d0c006f7592"
      },
      "source": [
        "arr"
      ],
      "execution_count": null,
      "outputs": [
        {
          "data": {
            "text/plain": [
              "array([0.60232804, 0.19097111, 0.61160186, 0.33045255, 0.27610434,\n",
              "       0.62637719, 0.51280619, 0.15505511, 0.43555063, 0.15382119,\n",
              "       0.22041939, 0.92260971, 0.36194363, 0.89358631, 0.55619   ,\n",
              "       0.32707515, 0.4252791 , 0.5740884 , 0.85548461, 0.08389984,\n",
              "       0.35097002, 0.26646006, 0.03110901, 0.81047887, 0.6796656 ])"
            ]
          },
          "execution_count": 26,
          "metadata": {},
          "output_type": "execute_result"
        }
      ]
    },
    {
      "cell_type": "code",
      "metadata": {
        "id": "AkAR9O0mY_ZY"
      },
      "source": [
        "arr = arr.reshape(5,5)"
      ],
      "execution_count": null,
      "outputs": []
    },
    {
      "cell_type": "code",
      "metadata": {
        "id": "RCqLkDCwY_ZY",
        "outputId": "9a770cb0-5981-4298-ddc3-807f29762549"
      },
      "source": [
        "arr"
      ],
      "execution_count": null,
      "outputs": [
        {
          "data": {
            "text/plain": [
              "array([[100, 100, 100, 100, 100, 100, 100, 100, 100, 100],\n",
              "       [100, 100, 100, 100, 100, 100, 100, 100, 100, 100],\n",
              "       [100, 100, 100, 100, 100, 100, 100, 100, 100, 100],\n",
              "       [ 30,  31,  32,  33,  34,  35,  36,  37,  38,  39],\n",
              "       [ 40,  41,  42,  43,  44,  45,  46,  47,  48,  49]])"
            ]
          },
          "execution_count": 101,
          "metadata": {},
          "output_type": "execute_result"
        }
      ]
    },
    {
      "cell_type": "markdown",
      "metadata": {
        "id": "ube58gwBY_ZY"
      },
      "source": [
        "**Operações com Numpy Array** "
      ]
    },
    {
      "cell_type": "code",
      "metadata": {
        "id": "OD-Qj7kLY_ZZ",
        "outputId": "a30cd468-f515-44df-cced-e2c626ffcb54"
      },
      "source": [
        "arr.shape"
      ],
      "execution_count": null,
      "outputs": [
        {
          "data": {
            "text/plain": [
              "(5, 10)"
            ]
          },
          "execution_count": 97,
          "metadata": {},
          "output_type": "execute_result"
        }
      ]
    },
    {
      "cell_type": "code",
      "metadata": {
        "id": "wlSyNTqmY_ZZ",
        "outputId": "6c8bc615-d1bd-4266-ec9f-ec19ec468cad"
      },
      "source": [
        "arr.max()"
      ],
      "execution_count": null,
      "outputs": [
        {
          "data": {
            "text/plain": [
              "100"
            ]
          },
          "execution_count": 98,
          "metadata": {},
          "output_type": "execute_result"
        }
      ]
    },
    {
      "cell_type": "code",
      "metadata": {
        "id": "Ax4Bh_b_Y_ZZ",
        "outputId": "28445ef0-2878-474a-9729-faf425f521e9"
      },
      "source": [
        "arr.min()"
      ],
      "execution_count": null,
      "outputs": [
        {
          "data": {
            "text/plain": [
              "0.031109007493705043"
            ]
          },
          "execution_count": 32,
          "metadata": {},
          "output_type": "execute_result"
        }
      ]
    },
    {
      "cell_type": "code",
      "metadata": {
        "id": "VQrP8uL4Y_Za",
        "outputId": "532908b5-a4f8-4a85-ce23-c8ef57f170f2"
      },
      "source": [
        "arr.argmax()"
      ],
      "execution_count": null,
      "outputs": [
        {
          "data": {
            "text/plain": [
              "11"
            ]
          },
          "execution_count": 33,
          "metadata": {},
          "output_type": "execute_result"
        }
      ]
    },
    {
      "cell_type": "code",
      "metadata": {
        "id": "2ol-0sxiY_Za",
        "outputId": "cc1771a0-71e7-4149-b247-0143bcd41dba"
      },
      "source": [
        "arr.argmin()"
      ],
      "execution_count": null,
      "outputs": [
        {
          "data": {
            "text/plain": [
              "22"
            ]
          },
          "execution_count": 34,
          "metadata": {},
          "output_type": "execute_result"
        }
      ]
    },
    {
      "cell_type": "code",
      "metadata": {
        "id": "L_LTMWEmY_Za"
      },
      "source": [
        ""
      ],
      "execution_count": null,
      "outputs": []
    },
    {
      "cell_type": "code",
      "metadata": {
        "id": "y8lUaTN2Y_Za",
        "outputId": "9840339b-423d-4d6c-bde2-b6c2f42efc64"
      },
      "source": [
        "arr.max"
      ],
      "execution_count": null,
      "outputs": [
        {
          "data": {
            "text/plain": [
              "<function ndarray.max>"
            ]
          },
          "execution_count": 30,
          "metadata": {},
          "output_type": "execute_result"
        }
      ]
    },
    {
      "cell_type": "code",
      "metadata": {
        "id": "MIfyXGThY_Za",
        "outputId": "09badf3d-cf4a-4576-af9b-ffb3829ff4f7"
      },
      "source": [
        "arr.max"
      ],
      "execution_count": null,
      "outputs": [
        {
          "data": {
            "text/plain": [
              "<function ndarray.max>"
            ]
          },
          "execution_count": 35,
          "metadata": {},
          "output_type": "execute_result"
        }
      ]
    },
    {
      "cell_type": "code",
      "metadata": {
        "id": "CLQ90wPoY_Zb"
      },
      "source": [
        "arr = np.arange(0, 30, 3)"
      ],
      "execution_count": null,
      "outputs": []
    },
    {
      "cell_type": "code",
      "metadata": {
        "id": "gS9dfw75Y_Zb",
        "outputId": "282ed003-fcda-4d7f-b9af-9f3f881fc2da"
      },
      "source": [
        "arr"
      ],
      "execution_count": null,
      "outputs": [
        {
          "data": {
            "text/plain": [
              "array([ 0,  3,  6,  9, 12, 15, 18, 21, 24, 27])"
            ]
          },
          "execution_count": 38,
          "metadata": {},
          "output_type": "execute_result"
        }
      ]
    },
    {
      "cell_type": "code",
      "metadata": {
        "id": "wPeDUYvRY_Zb",
        "outputId": "c1f1de0e-4763-4c61-ad94-3fba4795d779"
      },
      "source": [
        "arr[3]"
      ],
      "execution_count": null,
      "outputs": [
        {
          "data": {
            "text/plain": [
              "9"
            ]
          },
          "execution_count": 39,
          "metadata": {},
          "output_type": "execute_result"
        }
      ]
    },
    {
      "cell_type": "code",
      "metadata": {
        "id": "RGbSDs4XY_Zc",
        "outputId": "abd0c2f4-7f99-40cc-80a0-aaa2dad652af"
      },
      "source": [
        "arr[2:5]"
      ],
      "execution_count": null,
      "outputs": [
        {
          "data": {
            "text/plain": [
              "array([ 6,  9, 12])"
            ]
          },
          "execution_count": 40,
          "metadata": {},
          "output_type": "execute_result"
        }
      ]
    },
    {
      "cell_type": "code",
      "metadata": {
        "id": "zO5MQv31Y_Zc",
        "outputId": "a39df218-7e39-4157-b360-09c4076d373c"
      },
      "source": [
        "arr[:5]"
      ],
      "execution_count": null,
      "outputs": [
        {
          "data": {
            "text/plain": [
              "array([ 0,  3,  6,  9, 12])"
            ]
          },
          "execution_count": 41,
          "metadata": {},
          "output_type": "execute_result"
        }
      ]
    },
    {
      "cell_type": "code",
      "metadata": {
        "id": "e4F1ySwzY_Zd",
        "outputId": "110db4c7-f52c-4d1a-b027-563cc669b3fa"
      },
      "source": [
        "arr[2:]"
      ],
      "execution_count": null,
      "outputs": [
        {
          "data": {
            "text/plain": [
              "array([ 6,  9, 12, 15, 18, 21, 24, 27])"
            ]
          },
          "execution_count": 42,
          "metadata": {},
          "output_type": "execute_result"
        }
      ]
    },
    {
      "cell_type": "code",
      "metadata": {
        "id": "mJSBl_GYY_Zd"
      },
      "source": [
        "arr = np.arange(50).reshape((5,10))"
      ],
      "execution_count": null,
      "outputs": []
    },
    {
      "cell_type": "code",
      "metadata": {
        "id": "0Tt71FI1Y_Zd",
        "outputId": "f2050441-7fe6-4595-cfd5-38c82f761d07"
      },
      "source": [
        "arr"
      ],
      "execution_count": null,
      "outputs": [
        {
          "data": {
            "text/plain": [
              "array([[ 0,  1,  2,  3,  4,  5,  6,  7,  8,  9],\n",
              "       [10, 11, 12, 13, 14, 15, 16, 17, 18, 19],\n",
              "       [20, 21, 22, 23, 24, 25, 26, 27, 28, 29],\n",
              "       [30, 31, 32, 33, 34, 35, 36, 37, 38, 39],\n",
              "       [40, 41, 42, 43, 44, 45, 46, 47, 48, 49]])"
            ]
          },
          "execution_count": 57,
          "metadata": {},
          "output_type": "execute_result"
        }
      ]
    },
    {
      "cell_type": "code",
      "metadata": {
        "id": "t7bFJ6PtY_Ze",
        "outputId": "6eb29d55-0dfe-4049-9291-b55fcf6c45ff"
      },
      "source": [
        "arr.shape"
      ],
      "execution_count": null,
      "outputs": [
        {
          "data": {
            "text/plain": [
              "(5, 10)"
            ]
          },
          "execution_count": 59,
          "metadata": {},
          "output_type": "execute_result"
        }
      ]
    },
    {
      "cell_type": "code",
      "metadata": {
        "id": "D-DrMWY8Y_Zf"
      },
      "source": [
        "arr2 = arr[:3]"
      ],
      "execution_count": null,
      "outputs": []
    },
    {
      "cell_type": "code",
      "metadata": {
        "id": "7EpnrkcPY_Zg"
      },
      "source": [
        "arr2[:] = 100"
      ],
      "execution_count": null,
      "outputs": []
    },
    {
      "cell_type": "code",
      "metadata": {
        "id": "5PYY63UmY_Zg",
        "outputId": "dae0b5a8-4971-46d9-feb9-f23191f35892"
      },
      "source": [
        "arr2"
      ],
      "execution_count": null,
      "outputs": [
        {
          "data": {
            "text/plain": [
              "array([[100, 100, 100, 100, 100, 100, 100, 100, 100, 100],\n",
              "       [100, 100, 100, 100, 100, 100, 100, 100, 100, 100],\n",
              "       [100, 100, 100, 100, 100, 100, 100, 100, 100, 100]])"
            ]
          },
          "execution_count": 63,
          "metadata": {},
          "output_type": "execute_result"
        }
      ]
    },
    {
      "cell_type": "code",
      "metadata": {
        "id": "kUg5JA6MY_Zh",
        "outputId": "924eba84-a739-49a4-b33e-bb2e6ff70a91"
      },
      "source": [
        "arr"
      ],
      "execution_count": null,
      "outputs": [
        {
          "data": {
            "text/plain": [
              "array([[100, 100, 100, 100, 100, 100, 100, 100, 100, 100],\n",
              "       [100, 100, 100, 100, 100, 100, 100, 100, 100, 100],\n",
              "       [100, 100, 100, 100, 100, 100, 100, 100, 100, 100],\n",
              "       [ 30,  31,  32,  33,  34,  35,  36,  37,  38,  39],\n",
              "       [ 40,  41,  42,  43,  44,  45,  46,  47,  48,  49]])"
            ]
          },
          "execution_count": 64,
          "metadata": {},
          "output_type": "execute_result"
        }
      ]
    },
    {
      "cell_type": "code",
      "metadata": {
        "id": "ILQj25k9Y_Zi",
        "outputId": "617232b4-0403-4a1d-b2f5-d1ea66aae0ea"
      },
      "source": [
        "arr[1:4,5:]"
      ],
      "execution_count": null,
      "outputs": [
        {
          "data": {
            "text/plain": [
              "array([[100, 100, 100, 100, 100],\n",
              "       [100, 100, 100, 100, 100],\n",
              "       [ 35,  36,  37,  38,  39]])"
            ]
          },
          "execution_count": 65,
          "metadata": {},
          "output_type": "execute_result"
        }
      ]
    },
    {
      "cell_type": "code",
      "metadata": {
        "id": "x-Zjg9W5Y_Zi",
        "outputId": "a1daa5a2-5fb3-4a14-dea1-d31778b2aa7f"
      },
      "source": [
        "arr > 50"
      ],
      "execution_count": null,
      "outputs": [
        {
          "data": {
            "text/plain": [
              "array([[ True,  True,  True,  True,  True,  True,  True,  True,  True,\n",
              "         True],\n",
              "       [ True,  True,  True,  True,  True,  True,  True,  True,  True,\n",
              "         True],\n",
              "       [ True,  True,  True,  True,  True,  True,  True,  True,  True,\n",
              "         True],\n",
              "       [False, False, False, False, False, False, False, False, False,\n",
              "        False],\n",
              "       [False, False, False, False, False, False, False, False, False,\n",
              "        False]])"
            ]
          },
          "execution_count": 67,
          "metadata": {},
          "output_type": "execute_result"
        }
      ]
    },
    {
      "cell_type": "code",
      "metadata": {
        "id": "3wko7pInY_Zi"
      },
      "source": [
        "bol = arr > 50"
      ],
      "execution_count": null,
      "outputs": []
    },
    {
      "cell_type": "code",
      "metadata": {
        "id": "IJhNiNB7Y_Zj",
        "outputId": "94e444b7-56a0-41cb-cfd3-590dc898e949"
      },
      "source": [
        "arr[bol]"
      ],
      "execution_count": null,
      "outputs": [
        {
          "data": {
            "text/plain": [
              "array([100, 100, 100, 100, 100, 100, 100, 100, 100, 100, 100, 100, 100,\n",
              "       100, 100, 100, 100, 100, 100, 100, 100, 100, 100, 100, 100, 100,\n",
              "       100, 100, 100, 100])"
            ]
          },
          "execution_count": 69,
          "metadata": {},
          "output_type": "execute_result"
        }
      ]
    },
    {
      "cell_type": "code",
      "metadata": {
        "id": "ggFs1mR3Y_Zj"
      },
      "source": [
        "array = np.linspace(0, 100,30)"
      ],
      "execution_count": null,
      "outputs": []
    },
    {
      "cell_type": "code",
      "metadata": {
        "id": "JC2vqZBHY_Zj",
        "outputId": "0012852b-f8aa-4919-e0e5-ca758f460cf6"
      },
      "source": [
        "array.shape"
      ],
      "execution_count": null,
      "outputs": [
        {
          "data": {
            "text/plain": [
              "(30,)"
            ]
          },
          "execution_count": 71,
          "metadata": {},
          "output_type": "execute_result"
        }
      ]
    },
    {
      "cell_type": "code",
      "metadata": {
        "id": "Pun04nHGY_Zj"
      },
      "source": [
        "array = array.reshape(3,10)"
      ],
      "execution_count": null,
      "outputs": []
    },
    {
      "cell_type": "code",
      "metadata": {
        "id": "0GAitIiTY_Zk",
        "outputId": "1084a734-fcee-4e95-9b47-159eab29f181"
      },
      "source": [
        "array"
      ],
      "execution_count": null,
      "outputs": [
        {
          "data": {
            "text/plain": [
              "array([[  0.        ,   3.44827586,   6.89655172,  10.34482759,\n",
              "         13.79310345,  17.24137931,  20.68965517,  24.13793103,\n",
              "         27.5862069 ,  31.03448276],\n",
              "       [ 34.48275862,  37.93103448,  41.37931034,  44.82758621,\n",
              "         48.27586207,  51.72413793,  55.17241379,  58.62068966,\n",
              "         62.06896552,  65.51724138],\n",
              "       [ 68.96551724,  72.4137931 ,  75.86206897,  79.31034483,\n",
              "         82.75862069,  86.20689655,  89.65517241,  93.10344828,\n",
              "         96.55172414, 100.        ]])"
            ]
          },
          "execution_count": 74,
          "metadata": {},
          "output_type": "execute_result"
        }
      ]
    },
    {
      "cell_type": "code",
      "metadata": {
        "id": "i6P5TDB3Y_Zk",
        "outputId": "995e3e93-7ae1-44b7-c0ef-3234f25fb278"
      },
      "source": [
        "array[0:2,2]"
      ],
      "execution_count": null,
      "outputs": [
        {
          "data": {
            "text/plain": [
              "array([ 6.89655172, 41.37931034])"
            ]
          },
          "execution_count": 75,
          "metadata": {},
          "output_type": "execute_result"
        }
      ]
    },
    {
      "cell_type": "code",
      "metadata": {
        "id": "Zmhps7yWY_Zk",
        "outputId": "e945aaa5-fcaa-4ca5-fe9c-e922da856e24"
      },
      "source": [
        "np.arange(0,16)"
      ],
      "execution_count": null,
      "outputs": [
        {
          "data": {
            "text/plain": [
              "array([ 0,  1,  2,  3,  4,  5,  6,  7,  8,  9, 10, 11, 12, 13, 14, 15])"
            ]
          },
          "execution_count": 76,
          "metadata": {},
          "output_type": "execute_result"
        }
      ]
    },
    {
      "cell_type": "code",
      "metadata": {
        "id": "_aVhOATLY_Zk",
        "outputId": "7057dd6d-d4e5-4a03-cd44-5c29812541c0"
      },
      "source": [
        "arr + arr"
      ],
      "execution_count": null,
      "outputs": [
        {
          "data": {
            "text/plain": [
              "array([[200, 200, 200, 200, 200, 200, 200, 200, 200, 200],\n",
              "       [200, 200, 200, 200, 200, 200, 200, 200, 200, 200],\n",
              "       [200, 200, 200, 200, 200, 200, 200, 200, 200, 200],\n",
              "       [ 60,  62,  64,  66,  68,  70,  72,  74,  76,  78],\n",
              "       [ 80,  82,  84,  86,  88,  90,  92,  94,  96,  98]])"
            ]
          },
          "execution_count": 77,
          "metadata": {},
          "output_type": "execute_result"
        }
      ]
    },
    {
      "cell_type": "code",
      "metadata": {
        "id": "JJCt5iwDY_Zl"
      },
      "source": [
        "test = np.arange(0,16)"
      ],
      "execution_count": null,
      "outputs": []
    },
    {
      "cell_type": "code",
      "metadata": {
        "id": "WUXEcjBFY_Zl",
        "outputId": "4f2e5712-6619-42ad-b032-71bcec843610"
      },
      "source": [
        "test + test"
      ],
      "execution_count": null,
      "outputs": [
        {
          "data": {
            "text/plain": [
              "array([ 0,  2,  4,  6,  8, 10, 12, 14, 16, 18, 20, 22, 24, 26, 28, 30])"
            ]
          },
          "execution_count": 79,
          "metadata": {},
          "output_type": "execute_result"
        }
      ]
    },
    {
      "cell_type": "code",
      "metadata": {
        "id": "MFm0r0SGY_Zl",
        "outputId": "42f87199-3932-4647-f037-18f55becdd89"
      },
      "source": [
        "arr - arr"
      ],
      "execution_count": null,
      "outputs": [
        {
          "data": {
            "text/plain": [
              "array([[0, 0, 0, 0, 0, 0, 0, 0, 0, 0],\n",
              "       [0, 0, 0, 0, 0, 0, 0, 0, 0, 0],\n",
              "       [0, 0, 0, 0, 0, 0, 0, 0, 0, 0],\n",
              "       [0, 0, 0, 0, 0, 0, 0, 0, 0, 0],\n",
              "       [0, 0, 0, 0, 0, 0, 0, 0, 0, 0]])"
            ]
          },
          "execution_count": 80,
          "metadata": {},
          "output_type": "execute_result"
        }
      ]
    },
    {
      "cell_type": "code",
      "metadata": {
        "id": "6Ft9L5FjY_Zl",
        "outputId": "01576b73-5142-4aa2-8b35-0db7ad96cd7e"
      },
      "source": [
        "test - test"
      ],
      "execution_count": null,
      "outputs": [
        {
          "data": {
            "text/plain": [
              "array([0, 0, 0, 0, 0, 0, 0, 0, 0, 0, 0, 0, 0, 0, 0, 0])"
            ]
          },
          "execution_count": 81,
          "metadata": {},
          "output_type": "execute_result"
        }
      ]
    },
    {
      "cell_type": "code",
      "metadata": {
        "id": "S3rCf7S2Y_Zm",
        "outputId": "068ea753-47aa-4a38-a987-867a703afdf1"
      },
      "source": [
        "test * test"
      ],
      "execution_count": null,
      "outputs": [
        {
          "data": {
            "text/plain": [
              "array([  0,   1,   4,   9,  16,  25,  36,  49,  64,  81, 100, 121, 144,\n",
              "       169, 196, 225])"
            ]
          },
          "execution_count": 82,
          "metadata": {},
          "output_type": "execute_result"
        }
      ]
    },
    {
      "cell_type": "code",
      "metadata": {
        "id": "y5nndKXCY_Zm",
        "outputId": "6f5d9e6f-886a-4090-f0df-e2e070e49942"
      },
      "source": [
        "test ** test"
      ],
      "execution_count": null,
      "outputs": [
        {
          "data": {
            "text/plain": [
              "array([          1,           1,           4,          27,         256,\n",
              "              3125,       46656,      823543,    16777216,   387420489,\n",
              "        1410065408,  1843829075,  -251658240, -1692154371, -1282129920,\n",
              "        1500973039], dtype=int32)"
            ]
          },
          "execution_count": 83,
          "metadata": {},
          "output_type": "execute_result"
        }
      ]
    },
    {
      "cell_type": "code",
      "metadata": {
        "id": "n-P8RdGxY_Zm",
        "outputId": "eb203926-3f03-4d8c-d194-4ef945e7097e"
      },
      "source": [
        "test + 10"
      ],
      "execution_count": null,
      "outputs": [
        {
          "data": {
            "text/plain": [
              "array([10, 11, 12, 13, 14, 15, 16, 17, 18, 19, 20, 21, 22, 23, 24, 25])"
            ]
          },
          "execution_count": 84,
          "metadata": {},
          "output_type": "execute_result"
        }
      ]
    },
    {
      "cell_type": "code",
      "metadata": {
        "id": "4aKr46R8Y_Zm",
        "outputId": "ab56e080-99ef-4c01-d4df-1ab367f906da"
      },
      "source": [
        "np.sqrt(test)"
      ],
      "execution_count": null,
      "outputs": [
        {
          "data": {
            "text/plain": [
              "array([0.        , 1.        , 1.41421356, 1.73205081, 2.        ,\n",
              "       2.23606798, 2.44948974, 2.64575131, 2.82842712, 3.        ,\n",
              "       3.16227766, 3.31662479, 3.46410162, 3.60555128, 3.74165739,\n",
              "       3.87298335])"
            ]
          },
          "execution_count": 85,
          "metadata": {},
          "output_type": "execute_result"
        }
      ]
    },
    {
      "cell_type": "code",
      "metadata": {
        "id": "u9QBSs3JY_Zm",
        "outputId": "f387c72c-d43a-4f9b-df3e-147813fbf83d"
      },
      "source": [
        "np.exp(test)"
      ],
      "execution_count": null,
      "outputs": [
        {
          "data": {
            "text/plain": [
              "array([1.00000000e+00, 2.71828183e+00, 7.38905610e+00, 2.00855369e+01,\n",
              "       5.45981500e+01, 1.48413159e+02, 4.03428793e+02, 1.09663316e+03,\n",
              "       2.98095799e+03, 8.10308393e+03, 2.20264658e+04, 5.98741417e+04,\n",
              "       1.62754791e+05, 4.42413392e+05, 1.20260428e+06, 3.26901737e+06])"
            ]
          },
          "execution_count": 86,
          "metadata": {},
          "output_type": "execute_result"
        }
      ]
    },
    {
      "cell_type": "code",
      "metadata": {
        "id": "FA_Yuo7fY_Zn",
        "outputId": "79ac2480-c9eb-4b92-a478-a633a9f9d270"
      },
      "source": [
        "np.mean(test)"
      ],
      "execution_count": null,
      "outputs": [
        {
          "data": {
            "text/plain": [
              "7.5"
            ]
          },
          "execution_count": 87,
          "metadata": {},
          "output_type": "execute_result"
        }
      ]
    },
    {
      "cell_type": "code",
      "metadata": {
        "id": "TNgZQ_b8Y_Zn",
        "outputId": "5febf901-71e4-4fb0-9beb-88c587a50a81"
      },
      "source": [
        "np.std(test)"
      ],
      "execution_count": null,
      "outputs": [
        {
          "data": {
            "text/plain": [
              "4.6097722286464435"
            ]
          },
          "execution_count": 88,
          "metadata": {},
          "output_type": "execute_result"
        }
      ]
    },
    {
      "cell_type": "code",
      "metadata": {
        "id": "nzvqlh4oY_Zn",
        "outputId": "85e0d442-af83-4e42-9c8c-d921df55a409"
      },
      "source": [
        "np.sin(test)"
      ],
      "execution_count": null,
      "outputs": [
        {
          "data": {
            "text/plain": [
              "array([ 0.        ,  0.84147098,  0.90929743,  0.14112001, -0.7568025 ,\n",
              "       -0.95892427, -0.2794155 ,  0.6569866 ,  0.98935825,  0.41211849,\n",
              "       -0.54402111, -0.99999021, -0.53657292,  0.42016704,  0.99060736,\n",
              "        0.65028784])"
            ]
          },
          "execution_count": 89,
          "metadata": {},
          "output_type": "execute_result"
        }
      ]
    },
    {
      "cell_type": "code",
      "metadata": {
        "id": "efkg1g5bY_Zn",
        "outputId": "fc06449f-ff17-4d2d-c817-6a2f7cf0ffac"
      },
      "source": [
        "np.max(test)"
      ],
      "execution_count": null,
      "outputs": [
        {
          "data": {
            "text/plain": [
              "15"
            ]
          },
          "execution_count": 90,
          "metadata": {},
          "output_type": "execute_result"
        }
      ]
    },
    {
      "cell_type": "code",
      "metadata": {
        "id": "L8IsLFxEY_Zn",
        "outputId": "6f0b769b-22d1-4de4-c3fe-a746fa076580"
      },
      "source": [
        "np.min(test)"
      ],
      "execution_count": null,
      "outputs": [
        {
          "data": {
            "text/plain": [
              "0"
            ]
          },
          "execution_count": 91,
          "metadata": {},
          "output_type": "execute_result"
        }
      ]
    }
  ]
}