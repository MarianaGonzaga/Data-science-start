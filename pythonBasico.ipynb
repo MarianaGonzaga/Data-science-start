{
  "nbformat": 4,
  "nbformat_minor": 0,
  "metadata": {
    "colab": {
      "name": "pythonBasico.ipynb",
      "provenance": [],
      "collapsed_sections": [],
      "toc_visible": true,
      "authorship_tag": "ABX9TyNfRz4hj2w8Jv5xJa8t2i53",
      "include_colab_link": true
    },
    "kernelspec": {
      "name": "python3",
      "display_name": "Python 3"
    }
  },
  "cells": [
    {
      "cell_type": "markdown",
      "metadata": {
        "id": "view-in-github",
        "colab_type": "text"
      },
      "source": [
        "<a href=\"https://colab.research.google.com/github/MarianaGonzaga/Data-science-start/blob/master/pythonBasico.ipynb\" target=\"_parent\"><img src=\"https://colab.research.google.com/assets/colab-badge.svg\" alt=\"Open In Colab\"/></a>"
      ]
    },
    {
      "cell_type": "markdown",
      "metadata": {
        "id": "SoqNJ8Zls0zQ"
      },
      "source": [
        "## **Variáveis e Tipos de Dados em Python**\n",
        "\n",
        "*   **Tipos Numéricos:** Em python existem quatro tipos numéricos, int, float, bool e complex.\n",
        "\n",
        "\n",
        "\n",
        "\n"
      ]
    },
    {
      "cell_type": "markdown",
      "metadata": {
        "id": "dWf3ns4C0AvO"
      },
      "source": [
        "\n",
        "\n",
        "1. Inteiro (int)\n",
        "\n"
      ]
    },
    {
      "cell_type": "code",
      "metadata": {
        "colab": {
          "base_uri": "https://localhost:8080/"
        },
        "id": "nHs6-bfhtV_h",
        "outputId": "f4315d4e-956c-420f-e890-6d02a0c68baa"
      },
      "source": [
        "a = 1\n",
        "print(a)\n",
        "type(a)"
      ],
      "execution_count": null,
      "outputs": [
        {
          "output_type": "stream",
          "name": "stdout",
          "text": [
            "1\n"
          ]
        },
        {
          "output_type": "execute_result",
          "data": {
            "text/plain": [
              "int"
            ]
          },
          "metadata": {},
          "execution_count": 6
        }
      ]
    },
    {
      "cell_type": "markdown",
      "metadata": {
        "id": "nYKNjzJX0KSl"
      },
      "source": [
        "2. Flutuante (float)"
      ]
    },
    {
      "cell_type": "code",
      "metadata": {
        "colab": {
          "base_uri": "https://localhost:8080/"
        },
        "id": "VTFXoKPa0VsK",
        "outputId": "9989e0b2-4d96-4908-e164-9f41e436d640"
      },
      "source": [
        "b = 1.0\n",
        "print(b)\n",
        "type(b)"
      ],
      "execution_count": null,
      "outputs": [
        {
          "output_type": "stream",
          "name": "stdout",
          "text": [
            "1.0\n"
          ]
        },
        {
          "output_type": "execute_result",
          "data": {
            "text/plain": [
              "float"
            ]
          },
          "metadata": {},
          "execution_count": 7
        }
      ]
    },
    {
      "cell_type": "markdown",
      "metadata": {
        "id": "cOHwqSaf0fUT"
      },
      "source": [
        "3. Boleano (bool)"
      ]
    },
    {
      "cell_type": "code",
      "metadata": {
        "colab": {
          "base_uri": "https://localhost:8080/"
        },
        "id": "L9F0Tx6K0nNT",
        "outputId": "9444c7d8-dd59-4b39-b7b6-ca7bcaf3e96d"
      },
      "source": [
        "c = True\n",
        "print(c)\n",
        "type(c)"
      ],
      "execution_count": null,
      "outputs": [
        {
          "output_type": "stream",
          "name": "stdout",
          "text": [
            "True\n"
          ]
        },
        {
          "output_type": "execute_result",
          "data": {
            "text/plain": [
              "bool"
            ]
          },
          "metadata": {},
          "execution_count": 9
        }
      ]
    },
    {
      "cell_type": "markdown",
      "metadata": {
        "id": "UXjYeuG00yD6"
      },
      "source": [
        "4. Complexo (complex)"
      ]
    },
    {
      "cell_type": "code",
      "metadata": {
        "colab": {
          "base_uri": "https://localhost:8080/"
        },
        "id": "F6i7YY_g03JZ",
        "outputId": "c3ca9e59-c9d5-4c36-d1d6-c794bbd2f834"
      },
      "source": [
        "d = 77-10j\n",
        "print(d)\n",
        "type(d)"
      ],
      "execution_count": null,
      "outputs": [
        {
          "output_type": "stream",
          "name": "stdout",
          "text": [
            "(77-10j)\n"
          ]
        },
        {
          "output_type": "execute_result",
          "data": {
            "text/plain": [
              "complex"
            ]
          },
          "metadata": {},
          "execution_count": 13
        }
      ]
    },
    {
      "cell_type": "markdown",
      "metadata": {
        "id": "fkmFNmEm2L7e"
      },
      "source": [
        "* **Tipo Sequência de Texto:** Em python os dados textuais possuem tipo str e podem ser definidos com aspas simples, duplas ou triplas "
      ]
    },
    {
      "cell_type": "code",
      "metadata": {
        "colab": {
          "base_uri": "https://localhost:8080/"
        },
        "id": "fIQBCKMQ20zO",
        "outputId": "9c96039a-941e-443a-d660-8c9cbcaafd74"
      },
      "source": [
        "a = 'Olá mundo'\n",
        "type(a)"
      ],
      "execution_count": null,
      "outputs": [
        {
          "output_type": "execute_result",
          "data": {
            "text/plain": [
              "str"
            ]
          },
          "metadata": {},
          "execution_count": 15
        }
      ]
    },
    {
      "cell_type": "code",
      "metadata": {
        "colab": {
          "base_uri": "https://localhost:8080/"
        },
        "id": "5l4KqLdeDdcF",
        "outputId": "6e7eb9af-55b4-4372-a513-82d28faa76b5"
      },
      "source": [
        "b = \"Olá mundo 2\"\n",
        "type(b)"
      ],
      "execution_count": null,
      "outputs": [
        {
          "output_type": "execute_result",
          "data": {
            "text/plain": [
              "str"
            ]
          },
          "metadata": {},
          "execution_count": 16
        }
      ]
    },
    {
      "cell_type": "code",
      "metadata": {
        "colab": {
          "base_uri": "https://localhost:8080/"
        },
        "id": "UxyUZphlDiEG",
        "outputId": "1de86c9d-29fa-44aa-ae11-853b19573f47"
      },
      "source": [
        "c = '''Olá mundo 3'''\n",
        "type(c)"
      ],
      "execution_count": null,
      "outputs": [
        {
          "output_type": "execute_result",
          "data": {
            "text/plain": [
              "str"
            ]
          },
          "metadata": {},
          "execution_count": 17
        }
      ]
    },
    {
      "cell_type": "markdown",
      "metadata": {
        "id": "5sPqA2fVIJdQ"
      },
      "source": [
        "Alguns Métodos com Strings "
      ]
    },
    {
      "cell_type": "code",
      "metadata": {
        "colab": {
          "base_uri": "https://localhost:8080/"
        },
        "id": "xUIgqDTMIsXG",
        "outputId": "90c3bf6b-dca6-4403-b92f-78ecbad04b7a"
      },
      "source": [
        "s = \"string\"\n",
        "print(s.upper())"
      ],
      "execution_count": null,
      "outputs": [
        {
          "output_type": "stream",
          "name": "stdout",
          "text": [
            "STRING\n"
          ]
        }
      ]
    },
    {
      "cell_type": "code",
      "metadata": {
        "colab": {
          "base_uri": "https://localhost:8080/"
        },
        "id": "GMuyIVyfJixd",
        "outputId": "ce07f733-e148-4db4-c756-db3370b75f57"
      },
      "source": [
        "s = \"STRING\"\n",
        "print(s.lower())"
      ],
      "execution_count": null,
      "outputs": [
        {
          "output_type": "stream",
          "name": "stdout",
          "text": [
            "string\n"
          ]
        }
      ]
    },
    {
      "cell_type": "code",
      "metadata": {
        "colab": {
          "base_uri": "https://localhost:8080/"
        },
        "id": "TDXZAl5GKLBO",
        "outputId": "bf305c5d-c864-45ee-bac0-d68a689fdfb0"
      },
      "source": [
        "s = \"String dividida\"\n",
        "print(s.split())"
      ],
      "execution_count": null,
      "outputs": [
        {
          "output_type": "stream",
          "name": "stdout",
          "text": [
            "['String', 'dividida']\n"
          ]
        }
      ]
    },
    {
      "cell_type": "code",
      "metadata": {
        "colab": {
          "base_uri": "https://localhost:8080/"
        },
        "id": "Q2bab7N1Kgy7",
        "outputId": "9ed07fb5-b361-4850-8fec-46a2ef1dc81e"
      },
      "source": [
        "s = \"Posição especifica\"\n",
        "print(s[0:3])"
      ],
      "execution_count": null,
      "outputs": [
        {
          "output_type": "stream",
          "name": "stdout",
          "text": [
            "Pos\n"
          ]
        }
      ]
    },
    {
      "cell_type": "markdown",
      "metadata": {
        "id": "HXJveazXNvc0"
      },
      "source": [
        "# **Estruturas Condicionais em Python**"
      ]
    },
    {
      "cell_type": "code",
      "metadata": {
        "id": "sh766RHNN38w",
        "colab": {
          "base_uri": "https://localhost:8080/"
        },
        "outputId": "237b50d1-7436-4ab5-c137-d3fdeee8066b"
      },
      "source": [
        "a = 15\n",
        "b = 20\n",
        "if(a>b):\n",
        "  print(\"'a' maior que 'b'\")\n",
        "else:\n",
        "  print(\"'a' menor que 'b'\")"
      ],
      "execution_count": null,
      "outputs": [
        {
          "output_type": "stream",
          "name": "stdout",
          "text": [
            "'a' menor que 'b'\n"
          ]
        }
      ]
    },
    {
      "cell_type": "code",
      "metadata": {
        "colab": {
          "base_uri": "https://localhost:8080/"
        },
        "id": "VQqsTXKtPvEP",
        "outputId": "e63742ae-1fe3-496a-be7d-57dfc240a144"
      },
      "source": [
        "a = 15\n",
        "b = 15\n",
        "if(a==b):\n",
        "  print(\"'a' igual a 'b'\")"
      ],
      "execution_count": null,
      "outputs": [
        {
          "output_type": "stream",
          "name": "stdout",
          "text": [
            "'a' igual a 'b'\n"
          ]
        }
      ]
    },
    {
      "cell_type": "code",
      "metadata": {
        "colab": {
          "base_uri": "https://localhost:8080/"
        },
        "id": "5szdFvs_QKMs",
        "outputId": "f4df10ea-77ea-4673-ae96-b47e0967098a"
      },
      "source": [
        "a = 20\n",
        "b = 15\n",
        "if(a > b) and (b > 10):\n",
        "  print(\"'a' maior que 'b' e 'b' maior que '10'\")"
      ],
      "execution_count": null,
      "outputs": [
        {
          "output_type": "stream",
          "name": "stdout",
          "text": [
            "'a' maior que 'b' e 'b' maior que '10'\n"
          ]
        }
      ]
    },
    {
      "cell_type": "code",
      "metadata": {
        "colab": {
          "base_uri": "https://localhost:8080/"
        },
        "id": "1TqKVsJYRcKN",
        "outputId": "453fc9cb-e3a8-42c2-9c12-d0daab7eeefe"
      },
      "source": [
        "a = 10\n",
        "if(a < 10):\n",
        "  print(\"'a' menor que 10\")\n",
        "elif(a == 10):\n",
        "  print(\"'a' igual a 10\")"
      ],
      "execution_count": null,
      "outputs": [
        {
          "output_type": "stream",
          "name": "stdout",
          "text": [
            "'a' igual a 10\n"
          ]
        }
      ]
    },
    {
      "cell_type": "markdown",
      "metadata": {
        "id": "i1HdjtgIVEsI"
      },
      "source": [
        "# **Estruturas de Repetição**"
      ]
    },
    {
      "cell_type": "markdown",
      "metadata": {
        "id": "0Srmdp0aQm4T"
      },
      "source": [
        "\n",
        "*   **Loop For**"
      ]
    },
    {
      "cell_type": "code",
      "metadata": {
        "id": "xDLrLoPCVQdk",
        "colab": {
          "base_uri": "https://localhost:8080/"
        },
        "outputId": "2c2245ae-a3d4-4dfc-ad9f-329e5f1f4ae2"
      },
      "source": [
        "lista = [1,2,3,4,5,6]\n",
        "for numero in lista:\n",
        "  print(numero)\n",
        " "
      ],
      "execution_count": null,
      "outputs": [
        {
          "output_type": "stream",
          "name": "stdout",
          "text": [
            "1\n",
            "2\n",
            "3\n",
            "4\n",
            "5\n",
            "6\n"
          ]
        }
      ]
    },
    {
      "cell_type": "code",
      "metadata": {
        "colab": {
          "base_uri": "https://localhost:8080/"
        },
        "id": "zbtR6t1rNKo0",
        "outputId": "739f2437-fcfb-4cc2-fc3d-28c6279c6ed4"
      },
      "source": [
        "lista = [1,2,3,4,5,6]\n",
        "for numero in range(1, 7, 2):\n",
        "  print(numero)\n",
        " "
      ],
      "execution_count": null,
      "outputs": [
        {
          "output_type": "stream",
          "name": "stdout",
          "text": [
            "1\n",
            "3\n",
            "5\n"
          ]
        }
      ]
    },
    {
      "cell_type": "markdown",
      "metadata": {
        "id": "GJCi6DdpQzpr"
      },
      "source": [
        "\n",
        "*   **Loop While**"
      ]
    },
    {
      "cell_type": "code",
      "metadata": {
        "colab": {
          "base_uri": "https://localhost:8080/"
        },
        "id": "vVxNVh6RqhI9",
        "outputId": "e62f942f-39d6-42f0-c4fc-a39fd7f2c309"
      },
      "source": [
        "num = 1\n",
        "while num < 6:\n",
        "  print(num)\n",
        "  num = num + 1"
      ],
      "execution_count": null,
      "outputs": [
        {
          "output_type": "stream",
          "name": "stdout",
          "text": [
            "1\n",
            "2\n",
            "3\n",
            "4\n",
            "5\n"
          ]
        }
      ]
    },
    {
      "cell_type": "code",
      "metadata": {
        "colab": {
          "base_uri": "https://localhost:8080/"
        },
        "id": "nM5dhQ_2qhLO",
        "outputId": "b8286281-7681-417b-d509-a3d4a12c8556"
      },
      "source": [
        "num = 1\n",
        "while True:\n",
        "  if(num < 5):\n",
        "    print(num)\n",
        "    num = num + 1\n",
        "  else:\n",
        "    break\n"
      ],
      "execution_count": null,
      "outputs": [
        {
          "output_type": "stream",
          "name": "stdout",
          "text": [
            "1\n",
            "2\n",
            "3\n",
            "4\n"
          ]
        }
      ]
    },
    {
      "cell_type": "markdown",
      "metadata": {
        "id": "HSCuxLbavcs3"
      },
      "source": [
        "# **Coleções em Python**"
      ]
    },
    {
      "cell_type": "markdown",
      "metadata": {
        "id": "THnNx0AXvt0N"
      },
      "source": [
        "* **Listas**"
      ]
    },
    {
      "cell_type": "code",
      "metadata": {
        "id": "po9dl4DDwGlU"
      },
      "source": [
        "lista1 = [1, 2, 3, 4, 5]\n",
        "lista2 = ['s','t', 'r', 'i', 'n','g']\n",
        "lista3 = []\n",
        "lista4 = list(range(6))\n",
        "lista5 = list('string')"
      ],
      "execution_count": null,
      "outputs": []
    },
    {
      "cell_type": "code",
      "metadata": {
        "colab": {
          "base_uri": "https://localhost:8080/"
        },
        "id": "BQaoBkb7xk8L",
        "outputId": "2c4cec4a-71ba-4a7a-cf5f-19655385376e"
      },
      "source": [
        "if 2 in lista1:\n",
        "  print('Encontrado')"
      ],
      "execution_count": null,
      "outputs": [
        {
          "output_type": "stream",
          "name": "stdout",
          "text": [
            "Encontrado\n"
          ]
        }
      ]
    },
    {
      "cell_type": "code",
      "metadata": {
        "colab": {
          "base_uri": "https://localhost:8080/"
        },
        "id": "0PJeg9JRxk93",
        "outputId": "4db5b0b7-7518-4daa-e05b-c9158ad4690b"
      },
      "source": [
        "lista5.sort()\n",
        "print(lista5)"
      ],
      "execution_count": null,
      "outputs": [
        {
          "output_type": "stream",
          "name": "stdout",
          "text": [
            "['g', 'i', 'n', 'r', 's', 't']\n"
          ]
        }
      ]
    },
    {
      "cell_type": "code",
      "metadata": {
        "id": "iQSGasmEzNna"
      },
      "source": [
        ""
      ],
      "execution_count": null,
      "outputs": []
    },
    {
      "cell_type": "code",
      "metadata": {
        "colab": {
          "base_uri": "https://localhost:8080/"
        },
        "id": "U2NtgMM4zNpI",
        "outputId": "31458864-5611-4bda-a22a-a49f0b7c2dcc"
      },
      "source": [
        "print(lista1)\n",
        "lista1.append(6)\n",
        "print(lista1)"
      ],
      "execution_count": null,
      "outputs": [
        {
          "output_type": "stream",
          "name": "stdout",
          "text": [
            "[1, 2, 3, 4, 5]\n",
            "[1, 2, 3, 4, 5, 6]\n"
          ]
        }
      ]
    },
    {
      "cell_type": "code",
      "metadata": {
        "colab": {
          "base_uri": "https://localhost:8080/"
        },
        "id": "7uv47gcszhij",
        "outputId": "e625578d-7d86-46d0-db20-018207d6748a"
      },
      "source": [
        "lista1.extend([20, 15, 30])\n",
        "print(lista1)"
      ],
      "execution_count": null,
      "outputs": [
        {
          "output_type": "stream",
          "name": "stdout",
          "text": [
            "[1, 2, 3, 4, 5, 6, 20, 15, 30]\n"
          ]
        }
      ]
    },
    {
      "cell_type": "code",
      "metadata": {
        "id": "f2eltAkDzhkS",
        "colab": {
          "base_uri": "https://localhost:8080/"
        },
        "outputId": "80508747-cbda-4e08-f52b-65aeb797c666"
      },
      "source": [
        "lista1 = [1, 2, 3, 4, 5]\n",
        "lista2 = ['s','t', 'r', 'i', 'n','g']\n",
        "lista6 = lista1 + lista2\n",
        "print(lista6)"
      ],
      "execution_count": null,
      "outputs": [
        {
          "output_type": "stream",
          "name": "stdout",
          "text": [
            "[1, 2, 3, 4, 5, 's', 't', 'r', 'i', 'n', 'g']\n"
          ]
        }
      ]
    },
    {
      "cell_type": "code",
      "metadata": {
        "colab": {
          "base_uri": "https://localhost:8080/"
        },
        "id": "Z-nCj7YoxIjQ",
        "outputId": "1cce72ea-5fd8-4e78-af58-f2189ed5fab4"
      },
      "source": [
        "lista1.reverse()\n",
        "print(lista1)"
      ],
      "execution_count": null,
      "outputs": [
        {
          "output_type": "stream",
          "name": "stdout",
          "text": [
            "[5, 4, 3, 2, 1]\n"
          ]
        }
      ]
    },
    {
      "cell_type": "markdown",
      "metadata": {
        "id": "-d75_FDY2KEp"
      },
      "source": [
        "* **Dicionários**"
      ]
    },
    {
      "cell_type": "code",
      "metadata": {
        "colab": {
          "base_uri": "https://localhost:8080/"
        },
        "id": "y7h58w3b2PWG",
        "outputId": "fc0f5c3b-074c-49c5-8903-5a63f1ffa4a9"
      },
      "source": [
        "paises = {'br':'Brasil', 'es':'espanha'}\n",
        "print(paises)\n",
        "print(type(paises))\n",
        "print(paises['br'])\n",
        "print(paises.get('es'))\n",
        "print('br' in paises)\n",
        "print('ru' in paises)"
      ],
      "execution_count": null,
      "outputs": [
        {
          "output_type": "stream",
          "name": "stdout",
          "text": [
            "{'br': 'Brasil', 'es': 'espanha'}\n",
            "<class 'dict'>\n",
            "Brasil\n",
            "espanha\n",
            "True\n",
            "False\n"
          ]
        }
      ]
    }
  ]
}